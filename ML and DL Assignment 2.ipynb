{
 "cells": [
  {
   "cell_type": "raw",
   "id": "ce05eca7",
   "metadata": {},
   "source": [
    "#Task 2\n",
    "\n",
    "Registration ID : SIRSS1038\n",
    "\n",
    "Leela Satya Kartheek Raja"
   ]
  },
  {
   "cell_type": "markdown",
   "id": "2e5fea15",
   "metadata": {},
   "source": [
    "Q1. Write a lambda expression to extract first word of a string"
   ]
  },
  {
   "cell_type": "code",
   "execution_count": 76,
   "id": "c8bd6f02",
   "metadata": {},
   "outputs": [
    {
     "name": "stdout",
     "output_type": "stream",
     "text": [
      "enter string: hello who are you\n"
     ]
    },
    {
     "data": {
      "text/plain": [
       "'hello'"
      ]
     },
     "execution_count": 76,
     "metadata": {},
     "output_type": "execute_result"
    }
   ],
   "source": [
    "x= lambda x : x[:x.index(' ')]\n",
    "y=input(\"enter string: \")\n",
    "(x(y))"
   ]
  },
  {
   "cell_type": "markdown",
   "id": "1135e13b",
   "metadata": {},
   "source": [
    "Q2. Write a function to extract first word of s string (with many words separated by space)"
   ]
  },
  {
   "cell_type": "code",
   "execution_count": 77,
   "id": "c720f7c5",
   "metadata": {},
   "outputs": [
    {
     "name": "stdout",
     "output_type": "stream",
     "text": [
      "Enter String: hello where are you from\n"
     ]
    },
    {
     "data": {
      "text/plain": [
       "'hello'"
      ]
     },
     "execution_count": 77,
     "metadata": {},
     "output_type": "execute_result"
    }
   ],
   "source": [
    "def func_String(x):\n",
    "    return x[:x.index(' ')]\n",
    "\n",
    "String = input(\"Enter String: \")\n",
    "func_String(String)"
   ]
  },
  {
   "cell_type": "markdown",
   "id": "a09c7871",
   "metadata": {},
   "source": [
    "Q3. Extract the first word from every string from a list of strings by using map function."
   ]
  },
  {
   "cell_type": "code",
   "execution_count": 78,
   "id": "6c74686f",
   "metadata": {},
   "outputs": [
    {
     "name": "stdout",
     "output_type": "stream",
     "text": [
      "Enter Number Of Strings: 2\n",
      "Enter a String : hello who are you\n",
      "Enter a String : hello where are you from\n",
      "List Of Strings:  ['hello who are you', 'hello where are you from']\n"
     ]
    },
    {
     "data": {
      "text/plain": [
       "['hello', 'hello']"
      ]
     },
     "execution_count": 78,
     "metadata": {},
     "output_type": "execute_result"
    }
   ],
   "source": [
    "N=int(input(\"Enter Number Of Strings: \"))\n",
    "L = [input(\"Enter a String : \")  for i in range(0,N)]\n",
    "      \n",
    "def func_String(x):\n",
    "    return x[:x.index(' ')]\n",
    "\n",
    "print(\"List Of Strings: \" ,end=' ')\n",
    "print(L)      \n",
    "r=map(func_String,L)\n",
    "(list(r))"
   ]
  },
  {
   "cell_type": "markdown",
   "id": "9f51c11e",
   "metadata": {},
   "source": [
    "Q4. Write a function to return a list of prime factors of a given number"
   ]
  },
  {
   "cell_type": "code",
   "execution_count": 79,
   "id": "e5ed3915",
   "metadata": {},
   "outputs": [
    {
     "name": "stdout",
     "output_type": "stream",
     "text": [
      "Enter  No :180\n"
     ]
    },
    {
     "data": {
      "text/plain": [
       "[2, 2, 3, 3, 5]"
      ]
     },
     "execution_count": 79,
     "metadata": {},
     "output_type": "execute_result"
    }
   ],
   "source": [
    "def prime_factors(n):\n",
    "    i = 2\n",
    "    factors = []\n",
    "    while i * i <= n:\n",
    "        if n % i:\n",
    "            i += 1\n",
    "        else:\n",
    "            n //= i\n",
    "            factors.append(i)\n",
    "    if n > 1:\n",
    "        factors.append(n)\n",
    "    return factors\n",
    "n=int(input(\"Enter  No :\"))\n",
    "prime_factors(n)"
   ]
  },
  {
   "cell_type": "markdown",
   "id": "a208acc4",
   "metadata": {},
   "source": [
    "Q5. Write a function that finds 2nd largest among 4 numbers (Repetitions are allowed,without sorting)."
   ]
  },
  {
   "cell_type": "code",
   "execution_count": 80,
   "id": "efaa787a",
   "metadata": {},
   "outputs": [
    {
     "name": "stdout",
     "output_type": "stream",
     "text": [
      "Enter the values of m : 5\n",
      "Enter number : 1\n",
      "Enter number : 45\n",
      "Enter number : 58\n",
      "Enter number : 98\n",
      "Enter number : 874\n",
      "[1, 45, 58, 98, 874]\n",
      "SecondLargest: 98\n"
     ]
    }
   ],
   "source": [
    "M = int(input(\"Enter the values of m : \"))\n",
    "L = [int(input(\"Enter number : \" ))  for i in range(0,M)]\n",
    "       \n",
    "def SecondLargest(lst):\n",
    "      Largest = None\n",
    "      SecondLargest = None\n",
    "      for a in lst:\n",
    "          if not Largest or a > Largest:\n",
    "               if Largest:\n",
    "                  SecondLargest = Largest\n",
    "               Largest = a\n",
    "\n",
    "      \n",
    "      print(\"SecondLargest: {}\".format(SecondLargest))\n",
    "\n",
    "\n",
    "print(L)\n",
    "SecondLargest(L)"
   ]
  }
 ],
 "metadata": {
  "kernelspec": {
   "display_name": "Python 3",
   "language": "python",
   "name": "python3"
  },
  "language_info": {
   "codemirror_mode": {
    "name": "ipython",
    "version": 3
   },
   "file_extension": ".py",
   "mimetype": "text/x-python",
   "name": "python",
   "nbconvert_exporter": "python",
   "pygments_lexer": "ipython3",
   "version": "3.8.8"
  }
 },
 "nbformat": 4,
 "nbformat_minor": 5
}
